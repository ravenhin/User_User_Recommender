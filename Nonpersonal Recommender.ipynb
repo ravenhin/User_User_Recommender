{
 "cells": [
  {
   "cell_type": "markdown",
   "metadata": {},
   "source": [
    "# Nonpersonal Recommender"
   ]
  },
  {
   "cell_type": "markdown",
   "metadata": {},
   "source": [
    "Creating a non-personal recommender essentially means that you are making recommendations to a person without knowing anything about that person, which can be difficult to do. It's why websites want you to create accounts so that they can collect data on you that tracks your every move in order to learn more about you and target certain items to you that they believe you are potentially looking for based on last purchases. After doing exploratory data analysis, I cam to find that the items that are rented the most and what for are dresses for people attending weddings. So I created a dataframe that has all the dresses that have been ratings of 10 by the customers. After creating the dataframe of just top dress for ratings, I looked at the value counts of the item id in order to see which dresses were being rented the most. I would use the top five dresses from this dataframe when people show up to the website because it seems as though it will take most users in the direction they want to go right away since most people seem to be renting dresses from weddings from Rent the Runway. "
   ]
  },
  {
   "cell_type": "code",
   "execution_count": 1,
   "metadata": {},
   "outputs": [],
   "source": [
    "import pandas as pd"
   ]
  },
  {
   "cell_type": "code",
   "execution_count": 2,
   "metadata": {},
   "outputs": [],
   "source": [
    "rtr = pd.read_json('renttherunway_final_data.json', lines = True)"
   ]
  },
  {
   "cell_type": "code",
   "execution_count": 5,
   "metadata": {},
   "outputs": [
    {
     "data": {
      "text/plain": [
       "192543    10.0\n",
       "77822     10.0\n",
       "77845     10.0\n",
       "77844     10.0\n",
       "77843     10.0\n",
       "          ... \n",
       "186662     NaN\n",
       "188303     NaN\n",
       "189655     NaN\n",
       "190557     NaN\n",
       "191205     NaN\n",
       "Name: rating, Length: 192544, dtype: float64"
      ]
     },
     "execution_count": 5,
     "metadata": {},
     "output_type": "execute_result"
    }
   ],
   "source": [
    "#Sorted the values of the ratings in order to see what the highest rating was.\n",
    "rtr['rating'].sort_values(ascending = False)"
   ]
  },
  {
   "cell_type": "code",
   "execution_count": 13,
   "metadata": {},
   "outputs": [],
   "source": [
    "#Created a dataframe by filtering on dresses rented for weddings with a 10 rating\n",
    "best_items = rtr.loc[(rtr['rating'] == 10.0) & (rtr['category'] == 'dress') & (rtr['rented for'] == 'wedding')]"
   ]
  },
  {
   "cell_type": "code",
   "execution_count": 14,
   "metadata": {},
   "outputs": [
    {
     "data": {
      "text/plain": [
       "174086     714\n",
       "126335     409\n",
       "136110     383\n",
       "730008     208\n",
       "172027     191\n",
       "          ... \n",
       "1573992      1\n",
       "605263       1\n",
       "1569734      1\n",
       "476080       1\n",
       "993317       1\n",
       "Name: item_id, Length: 1562, dtype: int64"
      ]
     },
     "execution_count": 14,
     "metadata": {},
     "output_type": "execute_result"
    }
   ],
   "source": [
    "#Looked at the value counts of the item ids in order to see what the top 5 items were that were being rented in order\n",
    "#to recommend them to first time visitors to a site.\n",
    "best_items['item_id'].value_counts()"
   ]
  },
  {
   "cell_type": "code",
   "execution_count": null,
   "metadata": {},
   "outputs": [],
   "source": []
  }
 ],
 "metadata": {
  "kernelspec": {
   "display_name": "Python 3",
   "language": "python",
   "name": "python3"
  },
  "language_info": {
   "codemirror_mode": {
    "name": "ipython",
    "version": 3
   },
   "file_extension": ".py",
   "mimetype": "text/x-python",
   "name": "python",
   "nbconvert_exporter": "python",
   "pygments_lexer": "ipython3",
   "version": "3.7.4"
  }
 },
 "nbformat": 4,
 "nbformat_minor": 2
}
